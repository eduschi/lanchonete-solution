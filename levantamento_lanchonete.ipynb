{
  "nbformat": 4,
  "nbformat_minor": 0,
  "metadata": {
    "colab": {
      "name": "levantamento_lanchonete.html",
      "provenance": [],
      "collapsed_sections": [],
      "toc_visible": true,
      "authorship_tag": "ABX9TyM526A1FAfT8FunDtmP+9O7"
    },
    "kernelspec": {
      "name": "python3",
      "display_name": "Python 3"
    }
  },
  "cells": [
    {
      "cell_type": "markdown",
      "metadata": {
        "id": "Ajr_yoCLEAvk"
      },
      "source": [
        "#**lanchonete Pro-Gamer** "
      ]
    },
    {
      "cell_type": "markdown",
      "metadata": {
        "id": "fiQorTdhEQhq"
      },
      "source": [
        ">Estudo de caso para soluções de negócios apresentando uma aplicação para acompanhamento de receitas e despesas com Qlik sense\r\n",
        "e levantamento de requisitos para aplicativo para fazer pedidos on line."
      ]
    },
    {
      "cell_type": "markdown",
      "metadata": {
        "id": "MNupH5IwEYTU"
      },
      "source": [
        "#**Entendendo o cliente:**"
      ]
    },
    {
      "cell_type": "markdown",
      "metadata": {
        "id": "xqYRU589EooZ"
      },
      "source": [
        ">A **lanchonete Pro-Gamer** é uma lanchonete temática voltada para o publico jovem,\r\n",
        "contem, 5 maquinas de jogos ‘arcade’ com jogos diversos jogos, na compra de um lanche, o cliente recebe um voucher com um código que libera o acesso a uma maquina por 10 minutos, esse mesmo voucher mostra seu número na fila de espera, que é anunciado através de um sistema eletrônico.\r\n",
        "Seu ambiente interno é decorado com imagens de diversos personagens de jogos.\r\n",
        "Possui uma área com mesas e cadeiras fixas, existem mesas coletivas para até 6 pessoas e mesas mais individualizadas para apenas 2 pessoas.\r\n",
        "Atualmente realiza apenas vendas pela loja, mas pretende criar um aplicativo para que os clientes façam pedidos on-line."
      ]
    },
    {
      "cell_type": "markdown",
      "metadata": {
        "id": "85KHRIoEEyCo"
      },
      "source": [
        "Possui no seu cardápio:\r\n",
        "\r\n",
        ">\r\n",
        "**Lanche simples** |**Lanche duplo**\r\n",
        "-------------------|-----------------\r\n",
        "hot dog            | double buguer\r\n",
        "hamburguer         | double cheese buguer\r\n",
        "cheese buguer      | double cheese bacon\r\n",
        "cheese bacon       |\r\n"
      ]
    },
    {
      "cell_type": "markdown",
      "metadata": {
        "id": "AekpFpgsGDST"
      },
      "source": [
        "As bebidas são refrigerantes ou sucos vendidos em copos de 300 e 500ml.\r\n",
        "  \r\n",
        "Após entrevista de levantamento de requisitos foi foram obtidas as seguintes especificações:"
      ]
    },
    {
      "cell_type": "markdown",
      "metadata": {
        "id": "c4RTSJcxGDPV"
      },
      "source": [
        "* O aplicativo deve realizar o cadastro dos usuarios;\r\n",
        "* O aplicativo deve solicitar um login do usuario;\r\n",
        "* O aplicativo deve apresentar o cardápio;\r\n"
      ]
    },
    {
      "cell_type": "markdown",
      "metadata": {
        "id": "8LAHhkkyIake"
      },
      "source": [
        "\r\n",
        "O aplicativo oferece 3 opções de entrega:|\r\n",
        "-----------------------------------------|\r\n",
        "retirada na loja;                        |\r\n",
        "Uber Eats;                               |\r\n",
        "I-food;                                  |"
      ]
    },
    {
      "cell_type": "markdown",
      "metadata": {
        "id": "6PR8ldDqI71k"
      },
      "source": [
        "* O aplicativo encaminha para pagina de pagamentos;\r\n"
      ]
    },
    {
      "cell_type": "markdown",
      "metadata": {
        "id": "b_rZAZGkJCRv"
      },
      "source": [
        " O aplicativo exibe o status do pedido em etapas:|\r\n",
        " ------------------------------------------------|\r\n",
        "\tem preparação\r\n",
        "\tem rota de entrega"
      ]
    }
  ]
}